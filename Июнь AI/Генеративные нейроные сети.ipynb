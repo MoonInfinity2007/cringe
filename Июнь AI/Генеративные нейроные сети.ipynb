{
  "nbformat": 4,
  "nbformat_minor": 0,
  "metadata": {
    "colab": {
      "name": "Копия блокнота \"Февральский курс. Занятие 11. Генеративные сети. Шаблон ноутбука для домашнего задания\"",
      "provenance": [],
      "collapsed_sections": []
    },
    "kernelspec": {
      "name": "python3",
      "display_name": "Python 3"
    },
    "accelerator": "GPU"
  },
  "cells": [
    {
      "cell_type": "code",
      "metadata": {
        "id": "TyjwaeI1Awzq",
        "outputId": "b189bfa3-1988-4beb-9b21-b4e5101fb393",
        "colab": {
          "base_uri": "https://localhost:8080/",
          "height": 34
        }
      },
      "source": [
        "from tensorflow.keras.datasets import mnist, cifar10\n",
        "from tensorflow.keras.layers import Input, Dense, Reshape, Flatten, Dropout\n",
        "from tensorflow.keras.layers import BatchNormalization, Activation, MaxPooling2D, concatenate, Embedding, multiply\n",
        "from tensorflow.keras.layers.advanced_activations import LeakyReLU\n",
        "from tensorflow.keras.layers.convolutional import UpSampling2D, Conv2D\n",
        "from tensorflow.keras.models import Sequential, Model\n",
        "from tensorflow.keras.optimizers import Adam\n",
        "\n",
        "import matplotlib.pyplot as plt\n",
        "\n",
        "import sys\n",
        "\n",
        "import numpy as np"
      ],
      "execution_count": null,
      "outputs": [
        {
          "output_type": "stream",
          "text": [
            "Using TensorFlow backend.\n"
          ],
          "name": "stderr"
        }
      ]
    },
    {
      "cell_type": "code",
      "metadata": {
        "id": "jLJCbNGPPHJq"
      },
      "source": [
        "img_rows = 28\n",
        "img_cols = 28\n",
        "channels = 1\n",
        "img_shape = (img_rows, img_cols, channels)\n",
        "latent_dim = 100\n",
        "\n",
        "optimizer = Adam(0.0002, 0.5)"
      ],
      "execution_count": null,
      "outputs": []
    },
    {
      "cell_type": "code",
      "metadata": {
        "id": "U-quxNUgwGmh"
      },
      "source": [
        "!mkdir images"
      ],
      "execution_count": null,
      "outputs": []
    },
    {
      "cell_type": "code",
      "metadata": {
        "id": "WxD-poyaOa8Z",
        "outputId": "9d9384af-9f7b-4043-cc5c-b86675865cfc",
        "colab": {
          "base_uri": "https://localhost:8080/",
          "height": 129
        }
      },
      "source": [
        "def create_generator():\n",
        "  generator = Sequential()\n",
        "\n",
        "  return generator"
      ],
      "execution_count": null,
      "outputs": [
        {
          "output_type": "error",
          "ename": "IndentationError",
          "evalue": "ignored",
          "traceback": [
            "\u001b[0;36m  File \u001b[0;32m\"<ipython-input-4-9cf6d0b2bcb1>\"\u001b[0;36m, line \u001b[0;32m4\u001b[0m\n\u001b[0;31m    return generator\u001b[0m\n\u001b[0m    ^\u001b[0m\n\u001b[0;31mIndentationError\u001b[0m\u001b[0;31m:\u001b[0m unexpected indent\n"
          ]
        }
      ]
    },
    {
      "cell_type": "code",
      "metadata": {
        "id": "FHjvwC8APxko",
        "outputId": "42e9d240-c0be-457c-ff64-1ad198bedaf7",
        "colab": {
          "base_uri": "https://localhost:8080/",
          "height": 129
        }
      },
      "source": [
        "def create_discriminator():\n",
        "  discriminator = Sequential()\n",
        "\n",
        "  return discriminator"
      ],
      "execution_count": null,
      "outputs": [
        {
          "output_type": "error",
          "ename": "IndentationError",
          "evalue": "ignored",
          "traceback": [
            "\u001b[0;36m  File \u001b[0;32m\"<ipython-input-5-51d74c21b5db>\"\u001b[0;36m, line \u001b[0;32m4\u001b[0m\n\u001b[0;31m    return discriminator\u001b[0m\n\u001b[0m    ^\u001b[0m\n\u001b[0;31mIndentationError\u001b[0m\u001b[0;31m:\u001b[0m unexpected indent\n"
          ]
        }
      ]
    },
    {
      "cell_type": "code",
      "metadata": {
        "id": "GNMoLpVPTsSb"
      },
      "source": [
        "batch_size = 128\n",
        "\n",
        "(X_train, _), (_, _) = mnist.load_data()\n",
        "\n",
        "X_train = X_train / 127.5 - 1.\n",
        "X_train = np.expand_dims(X_train, axis=3)\n",
        "\n",
        "valid = np.ones((batch_size, 1))\n",
        "fake = np.zeros((batch_size, 1))"
      ],
      "execution_count": null,
      "outputs": []
    },
    {
      "cell_type": "code",
      "metadata": {
        "id": "t37Sv4H3UQ0y"
      },
      "source": [
        "def sample_images(epoch, gen):\n",
        "  r, c = 5, 5\n",
        "  noise = np.random.normal(0, 1, (r * c, latent_dim))\n",
        "  gen_imgs = gen.predict(noise)\n",
        "\n",
        "  gen_imgs = 0.5 * gen_imgs + 0.5\n",
        "\n",
        "  fig, axs = plt.subplots(r, c)\n",
        "  cnt = 0\n",
        "  for i in range(r):\n",
        "      for j in range(c):\n",
        "          axs[i,j].imshow(gen_imgs[cnt, :,:,0], cmap='gray')\n",
        "          axs[i,j].axis('off')\n",
        "          cnt += 1\n",
        "  plt.show()\n",
        "  fig.savefig(\"images/%d.png\" % epoch)\n",
        "  plt.close()"
      ],
      "execution_count": null,
      "outputs": []
    },
    {
      "cell_type": "code",
      "metadata": {
        "id": "RvChVlpRUAKE"
      },
      "source": [
        "def train(generator, discriminator, epochs=30000, batch_size=128):\n",
        "  \n",
        "  #Создайте yTrain - valid и fake\n",
        "  \n",
        "  #Создайте итоговую модель - combine - содинение генератора и дискриминатора\n",
        "\n",
        "  sample_interval = 200\n",
        "  \n",
        "  d_loss_list = []\n",
        "  g_loss_list = []\n",
        "  d_acc_list = []\n",
        "  \n",
        "  for epoch in range(epochs):\n",
        "\n",
        "    #Выберите случаные картинки для обучения дискриминатора\n",
        "\n",
        "    #Создайте картинки из шума для обучения генератора\n",
        "\n",
        "    #Получите картинки на выходе генератора\n",
        "    \n",
        "    #Обучите дискриминатор и получите ошибки\n",
        "    \n",
        "    #Обучите генератор\n",
        "\n",
        "    print (\"%d [D loss: %f, acc.: %.2f%%] [G loss: %f]\" % (epoch, d_loss[0], 100*d_loss[1], g_loss))\n",
        "\n",
        "    d_loss_list.append(d_loss[0])\n",
        "    g_loss_list.append(g_loss)\n",
        "    d_acc_list.append(100*d_loss[1])\n",
        "    \n",
        "    if ((epoch % sample_interval == 0) | (epoch == epochs-1)):\n",
        "        sample_images(epoch, generator)\n",
        "        \n",
        "  plt.plot(d_loss_list, label=\"Ошибка дискриминатора\")\n",
        "  plt.plot(g_loss_list, label=\"Ошибка генератора\")\n",
        "  plt.legend()\n",
        "  plt.show()\n",
        "  plt.plot(d_acc_list, label=\"Точность распознавания дискриминатора\")\n",
        "  plt.legend()\n",
        "  plt.show()\n",
        "    "
      ],
      "execution_count": null,
      "outputs": []
    },
    {
      "cell_type": "code",
      "metadata": {
        "id": "BspGeewYYLxm"
      },
      "source": [
        "#Тут запустите создание генератора, дискриминатора и обучение"
      ],
      "execution_count": null,
      "outputs": []
    }
  ]
}