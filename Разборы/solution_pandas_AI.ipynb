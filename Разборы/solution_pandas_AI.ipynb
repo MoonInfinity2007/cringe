{
  "cells": [
    {
      "cell_type": "code",
      "execution_count": null,
      "metadata": {
        "id": "oVQAQj5hSmi9"
      },
      "outputs": [],
      "source": [
        "import pandas as pd\n",
        "import numpy as np"
      ]
    },
    {
      "cell_type": "code",
      "execution_count": null,
      "metadata": {
        "id": "lRaf60W4SmjA"
      },
      "outputs": [],
      "source": [
        "table = pd.read_excel(\"SQL_data.xlsx\")"
      ]
    },
    {
      "cell_type": "markdown",
      "metadata": {
        "id": "bfWaKpFRSmjB"
      },
      "source": [
        "**Первичный анализ имеющихся данных**"
      ]
    },
    {
      "cell_type": "code",
      "execution_count": null,
      "metadata": {
        "colab": {
          "base_uri": "https://localhost:8080/"
        },
        "id": "EpB6JdEJSmjC",
        "outputId": "ee9ca4e8-2c55-491f-a5e8-19925e693af8"
      },
      "outputs": [
        {
          "output_type": "stream",
          "name": "stdout",
          "text": [
            "<class 'pandas.core.frame.DataFrame'>\n",
            "RangeIndex: 191759 entries, 0 to 191758\n",
            "Data columns (total 10 columns):\n",
            " #   Column         Non-Null Count   Dtype         \n",
            "---  ------         --------------   -----         \n",
            " 0   time           191759 non-null  datetime64[ns]\n",
            " 1   tags           191759 non-null  object        \n",
            " 2   question_id    191759 non-null  int64         \n",
            " 3   event_type     191759 non-null  object        \n",
            " 4   nav_screen     191759 non-null  object        \n",
            " 5   event_subtype  12893 non-null   object        \n",
            " 6   agent_role     100684 non-null  object        \n",
            " 7   status         191759 non-null  int64         \n",
            " 8   user_type      184401 non-null  object        \n",
            " 9   reply_id       191759 non-null  int64         \n",
            "dtypes: datetime64[ns](1), int64(3), object(6)\n",
            "memory usage: 14.6+ MB\n"
          ]
        }
      ],
      "source": [
        "table.info()"
      ]
    },
    {
      "cell_type": "code",
      "execution_count": null,
      "metadata": {
        "colab": {
          "base_uri": "https://localhost:8080/",
          "height": 956
        },
        "id": "lEEjaBqgSmjD",
        "outputId": "5f17ef93-5ccc-4de8-c4a6-76e0cc182884"
      },
      "outputs": [
        {
          "output_type": "execute_result",
          "data": {
            "text/plain": [
              "event_type\n",
              "read                           67780\n",
              "reply                          38302\n",
              "agent_reply                    22112\n",
              "set_agent                      13341\n",
              "create_question                12186\n",
              "ml_action                      11466\n",
              "closed_by_time                  7358\n",
              "unset_category                  6370\n",
              "hidden_comment                  5127\n",
              "drop_agent                      2377\n",
              "closed                          1649\n",
              "set_category                    1172\n",
              "tag_set_manually                 987\n",
              "delete_reply                     600\n",
              "task_bind                        388\n",
              "im_csat_requested                146\n",
              "task_closed                      140\n",
              "set_csat_rate                     93\n",
              "troll_closed                      49\n",
              "tag_unset_manually                41\n",
              "change_agent_new_expired          23\n",
              "change_agent_boomer_expired       13\n",
              "extend_time                       13\n",
              "change_agent_manual               11\n",
              "task_unbind                        8\n",
              "closed_temporary                   5\n",
              "hadoop_dump_sent                   2\n",
              "Name: count, dtype: int64"
            ],
            "text/html": [
              "<div>\n",
              "<style scoped>\n",
              "    .dataframe tbody tr th:only-of-type {\n",
              "        vertical-align: middle;\n",
              "    }\n",
              "\n",
              "    .dataframe tbody tr th {\n",
              "        vertical-align: top;\n",
              "    }\n",
              "\n",
              "    .dataframe thead th {\n",
              "        text-align: right;\n",
              "    }\n",
              "</style>\n",
              "<table border=\"1\" class=\"dataframe\">\n",
              "  <thead>\n",
              "    <tr style=\"text-align: right;\">\n",
              "      <th></th>\n",
              "      <th>count</th>\n",
              "    </tr>\n",
              "    <tr>\n",
              "      <th>event_type</th>\n",
              "      <th></th>\n",
              "    </tr>\n",
              "  </thead>\n",
              "  <tbody>\n",
              "    <tr>\n",
              "      <th>read</th>\n",
              "      <td>67780</td>\n",
              "    </tr>\n",
              "    <tr>\n",
              "      <th>reply</th>\n",
              "      <td>38302</td>\n",
              "    </tr>\n",
              "    <tr>\n",
              "      <th>agent_reply</th>\n",
              "      <td>22112</td>\n",
              "    </tr>\n",
              "    <tr>\n",
              "      <th>set_agent</th>\n",
              "      <td>13341</td>\n",
              "    </tr>\n",
              "    <tr>\n",
              "      <th>create_question</th>\n",
              "      <td>12186</td>\n",
              "    </tr>\n",
              "    <tr>\n",
              "      <th>ml_action</th>\n",
              "      <td>11466</td>\n",
              "    </tr>\n",
              "    <tr>\n",
              "      <th>closed_by_time</th>\n",
              "      <td>7358</td>\n",
              "    </tr>\n",
              "    <tr>\n",
              "      <th>unset_category</th>\n",
              "      <td>6370</td>\n",
              "    </tr>\n",
              "    <tr>\n",
              "      <th>hidden_comment</th>\n",
              "      <td>5127</td>\n",
              "    </tr>\n",
              "    <tr>\n",
              "      <th>drop_agent</th>\n",
              "      <td>2377</td>\n",
              "    </tr>\n",
              "    <tr>\n",
              "      <th>closed</th>\n",
              "      <td>1649</td>\n",
              "    </tr>\n",
              "    <tr>\n",
              "      <th>set_category</th>\n",
              "      <td>1172</td>\n",
              "    </tr>\n",
              "    <tr>\n",
              "      <th>tag_set_manually</th>\n",
              "      <td>987</td>\n",
              "    </tr>\n",
              "    <tr>\n",
              "      <th>delete_reply</th>\n",
              "      <td>600</td>\n",
              "    </tr>\n",
              "    <tr>\n",
              "      <th>task_bind</th>\n",
              "      <td>388</td>\n",
              "    </tr>\n",
              "    <tr>\n",
              "      <th>im_csat_requested</th>\n",
              "      <td>146</td>\n",
              "    </tr>\n",
              "    <tr>\n",
              "      <th>task_closed</th>\n",
              "      <td>140</td>\n",
              "    </tr>\n",
              "    <tr>\n",
              "      <th>set_csat_rate</th>\n",
              "      <td>93</td>\n",
              "    </tr>\n",
              "    <tr>\n",
              "      <th>troll_closed</th>\n",
              "      <td>49</td>\n",
              "    </tr>\n",
              "    <tr>\n",
              "      <th>tag_unset_manually</th>\n",
              "      <td>41</td>\n",
              "    </tr>\n",
              "    <tr>\n",
              "      <th>change_agent_new_expired</th>\n",
              "      <td>23</td>\n",
              "    </tr>\n",
              "    <tr>\n",
              "      <th>change_agent_boomer_expired</th>\n",
              "      <td>13</td>\n",
              "    </tr>\n",
              "    <tr>\n",
              "      <th>extend_time</th>\n",
              "      <td>13</td>\n",
              "    </tr>\n",
              "    <tr>\n",
              "      <th>change_agent_manual</th>\n",
              "      <td>11</td>\n",
              "    </tr>\n",
              "    <tr>\n",
              "      <th>task_unbind</th>\n",
              "      <td>8</td>\n",
              "    </tr>\n",
              "    <tr>\n",
              "      <th>closed_temporary</th>\n",
              "      <td>5</td>\n",
              "    </tr>\n",
              "    <tr>\n",
              "      <th>hadoop_dump_sent</th>\n",
              "      <td>2</td>\n",
              "    </tr>\n",
              "  </tbody>\n",
              "</table>\n",
              "</div><br><label><b>dtype:</b> int64</label>"
            ]
          },
          "metadata": {},
          "execution_count": 76
        }
      ],
      "source": [
        "table.event_type.value_counts()"
      ]
    },
    {
      "cell_type": "code",
      "execution_count": null,
      "metadata": {
        "id": "b9dKuHsdSmjD"
      },
      "outputs": [],
      "source": [
        "# read - прочитано одной из сторон\n",
        "# reply - ответ пользователя\n",
        "# agent_reply - ответ сотрудника\n",
        "# set_agent - назначение сотрудника\n",
        "# create_question - создание вопроса\n",
        "# ml_action - какое-то действие, выполненное моделью\n",
        "# closed_by_time - закрыто по тайм-ауту\n",
        "# unset_category - снятие категории\n",
        "# hidden_comment - ?\n",
        "# drop_agent - снятие сотрудника (видимо для последующего назначения другого)\n",
        "# closed - обращение закрыто\n",
        "# set_category - назначение категории\n",
        "# tag_set_manually - установка тэга\n",
        "# delete_reply - удаление сообщения\n",
        "# task_bind - ?\n",
        "# im_csat_requested - ?\n",
        "# task_closed - обращение закрыто?\n",
        "# set_csat_rate - ?\n",
        "# troll_closed - ?\n",
        "# tag_unset_manually - снятие тэга\n",
        "# change_agent_new_expired - ? (что-то со сменой сотрудника)\n",
        "# change_agent_boomer_expired - ?\n",
        "# extend_time - ? (время вышло?)\n",
        "# change_agent_manual - ? (что-то со сменой сотрудника вручную)\n",
        "# task_unbind - ?\n",
        "# closed_temporary - закрыто временно? на паузе?\n",
        "# hadoop_dump_sent - что-то про хадуп, встретилось всего два раза в конце обращений\n"
      ]
    },
    {
      "cell_type": "markdown",
      "metadata": {
        "id": "owSDqLRWSmjE"
      },
      "source": [
        "# Задание 1. Тикеты, ожидающие обработки\n",
        "\n",
        "Необходимо вывести количество тикетов, которые на данный момент ожидают отработки агентом. Для этого используйте поле status:\n",
        " - 1 — тикет отработан,\n",
        " - любое другое значение — тикет требует отработки.\n",
        "Если в один и тот же момент времени записано несколько логов с разными статусами для одного тикета, строки со статусом 1 не учитываются.\n"
      ]
    },
    {
      "cell_type": "code",
      "execution_count": null,
      "metadata": {
        "id": "rkN3aJXBSmjF"
      },
      "outputs": [],
      "source": [
        "# Определим максимальную отметку времени для каждого тикета\n",
        "table_1 = table.groupby(\"question_id\").agg({\"time\" : \"max\"}).reset_index()\n",
        "# join с общей таблицей для получения статуса в самую позднюю отметку времени\n",
        "merged_table_1 = pd.merge(left=table_1, right=table, on=[\"question_id\", \"time\"], how=\"left\")\n",
        "# Удалим все записи, где статус равен 1 (обработанный)\n",
        "merged_table_1 = merged_table_1[merged_table_1.status != 1]"
      ]
    },
    {
      "cell_type": "code",
      "execution_count": null,
      "metadata": {
        "id": "f0dDrabDSmjF"
      },
      "outputs": [],
      "source": [
        "# Удалим все записи, где статус равен 1 (обработанный) и посмотрим, сколько уникальных тикетов осталось необработанными\n",
        "unprocessed_count = len(merged_table_1.question_id.unique())"
      ]
    },
    {
      "cell_type": "code",
      "execution_count": null,
      "metadata": {
        "colab": {
          "base_uri": "https://localhost:8080/"
        },
        "id": "KZ6ZfsXnSmjF",
        "outputId": "78e4c1f5-6dda-40d1-bff9-7d2ed8ee36fa"
      },
      "outputs": [
        {
          "output_type": "execute_result",
          "data": {
            "text/plain": [
              "4971"
            ]
          },
          "metadata": {},
          "execution_count": 79
        }
      ],
      "source": [
        "unprocessed_count"
      ]
    },
    {
      "cell_type": "code",
      "execution_count": null,
      "metadata": {
        "colab": {
          "base_uri": "https://localhost:8080/"
        },
        "id": "-2AH1Uh7SmjG",
        "outputId": "7a835988-0744-4028-d2e1-74a1d396dd47"
      },
      "outputs": [
        {
          "output_type": "stream",
          "name": "stdout",
          "text": [
            "Необработанными на данный момент остаются 4971 тикет.\n"
          ]
        }
      ],
      "source": [
        "print(f\"Необработанными на данный момент остаются {unprocessed_count} тикет.\")"
      ]
    },
    {
      "cell_type": "markdown",
      "metadata": {
        "id": "FTp8qrUeSmjG"
      },
      "source": [
        "# Задание 2: Удалённые сообщения (5 баллов)\n",
        "\n",
        "Определите, кто удаляет сообщения чаще и в каком количестве. Рассчитайте, сколько сообщений было удалено сотрудниками, а сколько — пользователями. Выберите тех, кто удаляет сообщения чаще. В ответе укажите одно число — количество удаленных сообщений выбранной группой."
      ]
    },
    {
      "cell_type": "code",
      "execution_count": null,
      "metadata": {
        "id": "xlS7zVsaSmjH"
      },
      "outputs": [],
      "source": [
        "dict_for_task2 = dict()\n",
        "user_type_list = table.user_type.value_counts().index.values # Выделим все типы user_type"
      ]
    },
    {
      "cell_type": "code",
      "execution_count": null,
      "metadata": {
        "colab": {
          "base_uri": "https://localhost:8080/",
          "height": 163
        },
        "id": "C92kDlBjSmjH",
        "outputId": "354f3b62-585f-4e50-96fe-48a286af0706"
      },
      "outputs": [
        {
          "output_type": "execute_result",
          "data": {
            "text/plain": [
              "user_type\n",
              "user    600\n",
              "Name: count, dtype: int64"
            ],
            "text/html": [
              "<div>\n",
              "<style scoped>\n",
              "    .dataframe tbody tr th:only-of-type {\n",
              "        vertical-align: middle;\n",
              "    }\n",
              "\n",
              "    .dataframe tbody tr th {\n",
              "        vertical-align: top;\n",
              "    }\n",
              "\n",
              "    .dataframe thead th {\n",
              "        text-align: right;\n",
              "    }\n",
              "</style>\n",
              "<table border=\"1\" class=\"dataframe\">\n",
              "  <thead>\n",
              "    <tr style=\"text-align: right;\">\n",
              "      <th></th>\n",
              "      <th>count</th>\n",
              "    </tr>\n",
              "    <tr>\n",
              "      <th>user_type</th>\n",
              "      <th></th>\n",
              "    </tr>\n",
              "  </thead>\n",
              "  <tbody>\n",
              "    <tr>\n",
              "      <th>user</th>\n",
              "      <td>600</td>\n",
              "    </tr>\n",
              "  </tbody>\n",
              "</table>\n",
              "</div><br><label><b>dtype:</b> int64</label>"
            ]
          },
          "metadata": {},
          "execution_count": 82
        }
      ],
      "source": [
        "table[table.event_type == 'delete_reply'].user_type.value_counts() # Посмотрим тех, кто когда-либо удалял вопросы/ответы"
      ]
    },
    {
      "cell_type": "code",
      "execution_count": null,
      "metadata": {
        "id": "LuKsDe34SmjH"
      },
      "outputs": [],
      "source": [
        "for i in user_type_list:\n",
        "    try:\n",
        "        dict_for_task2[i] = table[table.event_type == 'delete_reply'].user_type.value_counts().loc[i]\n",
        "    except KeyError:\n",
        "        dict_for_task2[i] = 0"
      ]
    },
    {
      "cell_type": "code",
      "execution_count": null,
      "metadata": {
        "colab": {
          "base_uri": "https://localhost:8080/"
        },
        "id": "9YYAQp3HSmjH",
        "outputId": "5c2e2db1-072f-4796-b3ea-7db29c0f2b0c"
      },
      "outputs": [
        {
          "output_type": "execute_result",
          "data": {
            "text/plain": [
              "{'user': 600,\n",
              " 'specagent': 0,\n",
              " 'agent': 0,\n",
              " 'autofaq': 0,\n",
              " 'ml_agent': 0,\n",
              " 'ento': 0,\n",
              " 'bot': 0}"
            ]
          },
          "metadata": {},
          "execution_count": 84
        }
      ],
      "source": [
        "dict_for_task2"
      ]
    },
    {
      "cell_type": "code",
      "execution_count": null,
      "metadata": {
        "colab": {
          "base_uri": "https://localhost:8080/"
        },
        "id": "VBKIosUQSmjI",
        "outputId": "7ea4f709-9f5d-45f9-d942-da709a722ee7"
      },
      "outputs": [
        {
          "output_type": "execute_result",
          "data": {
            "text/plain": [
              "600"
            ]
          },
          "metadata": {},
          "execution_count": 85
        }
      ],
      "source": [
        "max(dict_for_task2.values())"
      ]
    },
    {
      "cell_type": "markdown",
      "metadata": {
        "id": "ran5so_pSmjI"
      },
      "source": [
        "# Задание 3: Повторные вопросы после закрытия по причине «троллинг» (5 баллов)\n",
        "\n",
        "Определите количество тикетов, в которых после события event_type = 'troll_closed' пользователь задал новый вопрос (reply)."
      ]
    },
    {
      "cell_type": "code",
      "execution_count": null,
      "metadata": {
        "id": "1cTBnyDKSmjI"
      },
      "outputs": [],
      "source": [
        "question_id_list_for_ex3 = table[table.event_type == \"troll_closed\"].question_id.unique()\n",
        "table_3 = table[table.question_id.isin(question_id_list_for_ex3)].sort_values([\"question_id\", \"time\"])\n",
        "# Сделал срез по тикетам, в которых было событие troll_closed"
      ]
    },
    {
      "cell_type": "markdown",
      "metadata": {
        "id": "PG0h2p7iSmjI"
      },
      "source": [
        "*Теперь сделаем джойн среза с самим собой, отфильтруем, чтобы события справа были всегда позже событий слева и отыщем строки, в которых слева событие troll_closed, а справа reply*"
      ]
    },
    {
      "cell_type": "code",
      "execution_count": null,
      "metadata": {
        "id": "pwbvYGpQSmjJ"
      },
      "outputs": [],
      "source": [
        "table_3 = table_3[[\"question_id\", \"time\", \"event_type\"]]\n",
        "merged_table_3 = pd.merge(left=table_3, right=table_3, how=\"inner\", on=\"question_id\", suffixes=(\"_left\", \"_right\"), sort=[\"question_id\", \"time\"])\n",
        "\n",
        "merged_table_3 = merged_table_3[(merged_table_3.event_type_left == \"troll_closed\")&\n",
        "                                (merged_table_3.event_type_right == \"reply\")&\n",
        "                                (merged_table_3.time_left < merged_table_3.time_right)]"
      ]
    },
    {
      "cell_type": "code",
      "execution_count": null,
      "metadata": {
        "id": "wWlbKv_YSmjJ"
      },
      "outputs": [],
      "source": [
        "ex3_count = merged_table_3.shape[0]"
      ]
    },
    {
      "cell_type": "code",
      "execution_count": null,
      "metadata": {
        "colab": {
          "base_uri": "https://localhost:8080/"
        },
        "id": "z0kjkBaqSmjJ",
        "outputId": "50b19ba9-392f-4931-a1e7-a09e2787bdc2"
      },
      "outputs": [
        {
          "output_type": "stream",
          "name": "stdout",
          "text": [
            "Количество тикетов, в которых было событие (event_type) troll_closed и после этого пользователь задал вопрос (reply) равно 0\n"
          ]
        }
      ],
      "source": [
        "print(f\"Количество тикетов, в которых было событие (event_type) troll_closed и после этого пользователь задал вопрос (reply) равно {ex3_count}\")"
      ]
    },
    {
      "cell_type": "markdown",
      "metadata": {
        "id": "qDCI2nFBSmjJ"
      },
      "source": [
        "# Задание 4: Анализ тегов тикетов (10 баллов)\n",
        "\n",
        "Посчитайте количество тикетов в разрезе тегов, где тег определяется как event_subtype LIKE 'tag_%'. Учитывайте только последний тег в каждом тикете (1 тикет — 1 тег). В ответе укажите самый популярный тег."
      ]
    },
    {
      "cell_type": "code",
      "execution_count": null,
      "metadata": {
        "id": "-exjKGf7SmjK"
      },
      "outputs": [],
      "source": [
        "table_4 = table.reset_index(drop=True).set_index(\"event_subtype\")\n",
        "table_4 = table_4.filter(like=\"tag_\", axis=0).copy()\n",
        "table_4 = table_4.reset_index()\n",
        "# Выделяем тикеты, у которых в принципе есть назначение тега"
      ]
    },
    {
      "cell_type": "code",
      "execution_count": null,
      "metadata": {
        "colab": {
          "base_uri": "https://localhost:8080/",
          "height": 285
        },
        "id": "qyAcYwi2SmjK",
        "outputId": "05b8c68c-4740-4100-bf07-bcd7916061f7"
      },
      "outputs": [
        {
          "output_type": "execute_result",
          "data": {
            "text/plain": [
              "question_id\n",
              "61896013    5\n",
              "61812226    3\n",
              "61798014    3\n",
              "61768163    3\n",
              "61707440    3\n",
              "Name: count, dtype: int64"
            ],
            "text/html": [
              "<div>\n",
              "<style scoped>\n",
              "    .dataframe tbody tr th:only-of-type {\n",
              "        vertical-align: middle;\n",
              "    }\n",
              "\n",
              "    .dataframe tbody tr th {\n",
              "        vertical-align: top;\n",
              "    }\n",
              "\n",
              "    .dataframe thead th {\n",
              "        text-align: right;\n",
              "    }\n",
              "</style>\n",
              "<table border=\"1\" class=\"dataframe\">\n",
              "  <thead>\n",
              "    <tr style=\"text-align: right;\">\n",
              "      <th></th>\n",
              "      <th>count</th>\n",
              "    </tr>\n",
              "    <tr>\n",
              "      <th>question_id</th>\n",
              "      <th></th>\n",
              "    </tr>\n",
              "  </thead>\n",
              "  <tbody>\n",
              "    <tr>\n",
              "      <th>61896013</th>\n",
              "      <td>5</td>\n",
              "    </tr>\n",
              "    <tr>\n",
              "      <th>61812226</th>\n",
              "      <td>3</td>\n",
              "    </tr>\n",
              "    <tr>\n",
              "      <th>61798014</th>\n",
              "      <td>3</td>\n",
              "    </tr>\n",
              "    <tr>\n",
              "      <th>61768163</th>\n",
              "      <td>3</td>\n",
              "    </tr>\n",
              "    <tr>\n",
              "      <th>61707440</th>\n",
              "      <td>3</td>\n",
              "    </tr>\n",
              "  </tbody>\n",
              "</table>\n",
              "</div><br><label><b>dtype:</b> int64</label>"
            ]
          },
          "metadata": {},
          "execution_count": 91
        }
      ],
      "source": [
        "table_4.question_id.value_counts().head()\n",
        "# Видим, что некоторые тикеты повторяются, это значит, что внутри них были разные назначения тегов"
      ]
    },
    {
      "cell_type": "code",
      "execution_count": null,
      "metadata": {
        "id": "eGk0RqhISmjK"
      },
      "outputs": [],
      "source": [
        "table_4 = table_4.sort_values(by=['question_id', 'time'])\n",
        "table_4 = table_4.drop_duplicates(subset=[\"question_id\"], keep=\"last\")\n",
        "# Соритирую данные по тикету и времени, а затем удаляю дубликаты по номеру тикета, сохраняя только последний"
      ]
    },
    {
      "cell_type": "markdown",
      "metadata": {
        "id": "2lvJm01FSmjK"
      },
      "source": [
        "Может быть такое, что тег назначили, а затем убрали и другой уже не назначили, значит по итогу такой тикет нужно убирать из рассмотрения.  \n",
        "Если вдруг последним действием оказалось снятие тега (tag_unset_manually), то такой топик исключается из рассмотрения.  "
      ]
    },
    {
      "cell_type": "code",
      "execution_count": null,
      "metadata": {
        "colab": {
          "base_uri": "https://localhost:8080/",
          "height": 193
        },
        "id": "WA2ShXigSmjL",
        "outputId": "0303cbe0-f356-42fe-efcb-397570401283"
      },
      "outputs": [
        {
          "output_type": "execute_result",
          "data": {
            "text/plain": [
              "event_type\n",
              "tag_set_manually      945\n",
              "tag_unset_manually      1\n",
              "Name: count, dtype: int64"
            ],
            "text/html": [
              "<div>\n",
              "<style scoped>\n",
              "    .dataframe tbody tr th:only-of-type {\n",
              "        vertical-align: middle;\n",
              "    }\n",
              "\n",
              "    .dataframe tbody tr th {\n",
              "        vertical-align: top;\n",
              "    }\n",
              "\n",
              "    .dataframe thead th {\n",
              "        text-align: right;\n",
              "    }\n",
              "</style>\n",
              "<table border=\"1\" class=\"dataframe\">\n",
              "  <thead>\n",
              "    <tr style=\"text-align: right;\">\n",
              "      <th></th>\n",
              "      <th>count</th>\n",
              "    </tr>\n",
              "    <tr>\n",
              "      <th>event_type</th>\n",
              "      <th></th>\n",
              "    </tr>\n",
              "  </thead>\n",
              "  <tbody>\n",
              "    <tr>\n",
              "      <th>tag_set_manually</th>\n",
              "      <td>945</td>\n",
              "    </tr>\n",
              "    <tr>\n",
              "      <th>tag_unset_manually</th>\n",
              "      <td>1</td>\n",
              "    </tr>\n",
              "  </tbody>\n",
              "</table>\n",
              "</div><br><label><b>dtype:</b> int64</label>"
            ]
          },
          "metadata": {},
          "execution_count": 93
        }
      ],
      "source": [
        "table_4.event_type.value_counts()"
      ]
    },
    {
      "cell_type": "code",
      "execution_count": null,
      "metadata": {
        "id": "FZgKgbS2SmjL"
      },
      "outputs": [],
      "source": [
        "table_4 = table_4[table_4.event_type != \"tag_unset_manually\"]"
      ]
    },
    {
      "cell_type": "markdown",
      "metadata": {
        "id": "beI4_F00SmjM"
      },
      "source": [
        "Нашли тикет, у которого последним действием было снятие тега"
      ]
    },
    {
      "cell_type": "markdown",
      "metadata": {
        "id": "7S49J_JNSmjM"
      },
      "source": [
        "Теперь наконец выведем частотность топиков в разрезе тегов"
      ]
    },
    {
      "cell_type": "code",
      "execution_count": null,
      "metadata": {
        "colab": {
          "base_uri": "https://localhost:8080/",
          "height": 464
        },
        "id": "tjD0Iu1uSmjM",
        "outputId": "1d6a4e56-4e84-4d65-e806-120d9dc25940"
      },
      "outputs": [
        {
          "output_type": "execute_result",
          "data": {
            "text/plain": [
              "               question_id\n",
              "event_subtype             \n",
              "tag_5922               233\n",
              "tag_5954                53\n",
              "tag_5858                53\n",
              "tag_5838                50\n",
              "tag_5921                41\n",
              "...                    ...\n",
              "tag_5847                 1\n",
              "tag_5846                 1\n",
              "tag_5842                 1\n",
              "tag_5834                 1\n",
              "tag_6681                 1\n",
              "\n",
              "[75 rows x 1 columns]"
            ],
            "text/html": [
              "\n",
              "  <div id=\"df-39956702-6844-42e7-8c52-33768903dd4a\" class=\"colab-df-container\">\n",
              "    <div>\n",
              "<style scoped>\n",
              "    .dataframe tbody tr th:only-of-type {\n",
              "        vertical-align: middle;\n",
              "    }\n",
              "\n",
              "    .dataframe tbody tr th {\n",
              "        vertical-align: top;\n",
              "    }\n",
              "\n",
              "    .dataframe thead th {\n",
              "        text-align: right;\n",
              "    }\n",
              "</style>\n",
              "<table border=\"1\" class=\"dataframe\">\n",
              "  <thead>\n",
              "    <tr style=\"text-align: right;\">\n",
              "      <th></th>\n",
              "      <th>question_id</th>\n",
              "    </tr>\n",
              "    <tr>\n",
              "      <th>event_subtype</th>\n",
              "      <th></th>\n",
              "    </tr>\n",
              "  </thead>\n",
              "  <tbody>\n",
              "    <tr>\n",
              "      <th>tag_5922</th>\n",
              "      <td>233</td>\n",
              "    </tr>\n",
              "    <tr>\n",
              "      <th>tag_5954</th>\n",
              "      <td>53</td>\n",
              "    </tr>\n",
              "    <tr>\n",
              "      <th>tag_5858</th>\n",
              "      <td>53</td>\n",
              "    </tr>\n",
              "    <tr>\n",
              "      <th>tag_5838</th>\n",
              "      <td>50</td>\n",
              "    </tr>\n",
              "    <tr>\n",
              "      <th>tag_5921</th>\n",
              "      <td>41</td>\n",
              "    </tr>\n",
              "    <tr>\n",
              "      <th>...</th>\n",
              "      <td>...</td>\n",
              "    </tr>\n",
              "    <tr>\n",
              "      <th>tag_5847</th>\n",
              "      <td>1</td>\n",
              "    </tr>\n",
              "    <tr>\n",
              "      <th>tag_5846</th>\n",
              "      <td>1</td>\n",
              "    </tr>\n",
              "    <tr>\n",
              "      <th>tag_5842</th>\n",
              "      <td>1</td>\n",
              "    </tr>\n",
              "    <tr>\n",
              "      <th>tag_5834</th>\n",
              "      <td>1</td>\n",
              "    </tr>\n",
              "    <tr>\n",
              "      <th>tag_6681</th>\n",
              "      <td>1</td>\n",
              "    </tr>\n",
              "  </tbody>\n",
              "</table>\n",
              "<p>75 rows × 1 columns</p>\n",
              "</div>\n",
              "    <div class=\"colab-df-buttons\">\n",
              "\n",
              "  <div class=\"colab-df-container\">\n",
              "    <button class=\"colab-df-convert\" onclick=\"convertToInteractive('df-39956702-6844-42e7-8c52-33768903dd4a')\"\n",
              "            title=\"Convert this dataframe to an interactive table.\"\n",
              "            style=\"display:none;\">\n",
              "\n",
              "  <svg xmlns=\"http://www.w3.org/2000/svg\" height=\"24px\" viewBox=\"0 -960 960 960\">\n",
              "    <path d=\"M120-120v-720h720v720H120Zm60-500h600v-160H180v160Zm220 220h160v-160H400v160Zm0 220h160v-160H400v160ZM180-400h160v-160H180v160Zm440 0h160v-160H620v160ZM180-180h160v-160H180v160Zm440 0h160v-160H620v160Z\"/>\n",
              "  </svg>\n",
              "    </button>\n",
              "\n",
              "  <style>\n",
              "    .colab-df-container {\n",
              "      display:flex;\n",
              "      gap: 12px;\n",
              "    }\n",
              "\n",
              "    .colab-df-convert {\n",
              "      background-color: #E8F0FE;\n",
              "      border: none;\n",
              "      border-radius: 50%;\n",
              "      cursor: pointer;\n",
              "      display: none;\n",
              "      fill: #1967D2;\n",
              "      height: 32px;\n",
              "      padding: 0 0 0 0;\n",
              "      width: 32px;\n",
              "    }\n",
              "\n",
              "    .colab-df-convert:hover {\n",
              "      background-color: #E2EBFA;\n",
              "      box-shadow: 0px 1px 2px rgba(60, 64, 67, 0.3), 0px 1px 3px 1px rgba(60, 64, 67, 0.15);\n",
              "      fill: #174EA6;\n",
              "    }\n",
              "\n",
              "    .colab-df-buttons div {\n",
              "      margin-bottom: 4px;\n",
              "    }\n",
              "\n",
              "    [theme=dark] .colab-df-convert {\n",
              "      background-color: #3B4455;\n",
              "      fill: #D2E3FC;\n",
              "    }\n",
              "\n",
              "    [theme=dark] .colab-df-convert:hover {\n",
              "      background-color: #434B5C;\n",
              "      box-shadow: 0px 1px 3px 1px rgba(0, 0, 0, 0.15);\n",
              "      filter: drop-shadow(0px 1px 2px rgba(0, 0, 0, 0.3));\n",
              "      fill: #FFFFFF;\n",
              "    }\n",
              "  </style>\n",
              "\n",
              "    <script>\n",
              "      const buttonEl =\n",
              "        document.querySelector('#df-39956702-6844-42e7-8c52-33768903dd4a button.colab-df-convert');\n",
              "      buttonEl.style.display =\n",
              "        google.colab.kernel.accessAllowed ? 'block' : 'none';\n",
              "\n",
              "      async function convertToInteractive(key) {\n",
              "        const element = document.querySelector('#df-39956702-6844-42e7-8c52-33768903dd4a');\n",
              "        const dataTable =\n",
              "          await google.colab.kernel.invokeFunction('convertToInteractive',\n",
              "                                                    [key], {});\n",
              "        if (!dataTable) return;\n",
              "\n",
              "        const docLinkHtml = 'Like what you see? Visit the ' +\n",
              "          '<a target=\"_blank\" href=https://colab.research.google.com/notebooks/data_table.ipynb>data table notebook</a>'\n",
              "          + ' to learn more about interactive tables.';\n",
              "        element.innerHTML = '';\n",
              "        dataTable['output_type'] = 'display_data';\n",
              "        await google.colab.output.renderOutput(dataTable, element);\n",
              "        const docLink = document.createElement('div');\n",
              "        docLink.innerHTML = docLinkHtml;\n",
              "        element.appendChild(docLink);\n",
              "      }\n",
              "    </script>\n",
              "  </div>\n",
              "\n",
              "\n",
              "<div id=\"df-b64f3737-f663-4cac-8603-a2e86c854272\">\n",
              "  <button class=\"colab-df-quickchart\" onclick=\"quickchart('df-b64f3737-f663-4cac-8603-a2e86c854272')\"\n",
              "            title=\"Suggest charts\"\n",
              "            style=\"display:none;\">\n",
              "\n",
              "<svg xmlns=\"http://www.w3.org/2000/svg\" height=\"24px\"viewBox=\"0 0 24 24\"\n",
              "     width=\"24px\">\n",
              "    <g>\n",
              "        <path d=\"M19 3H5c-1.1 0-2 .9-2 2v14c0 1.1.9 2 2 2h14c1.1 0 2-.9 2-2V5c0-1.1-.9-2-2-2zM9 17H7v-7h2v7zm4 0h-2V7h2v10zm4 0h-2v-4h2v4z\"/>\n",
              "    </g>\n",
              "</svg>\n",
              "  </button>\n",
              "\n",
              "<style>\n",
              "  .colab-df-quickchart {\n",
              "      --bg-color: #E8F0FE;\n",
              "      --fill-color: #1967D2;\n",
              "      --hover-bg-color: #E2EBFA;\n",
              "      --hover-fill-color: #174EA6;\n",
              "      --disabled-fill-color: #AAA;\n",
              "      --disabled-bg-color: #DDD;\n",
              "  }\n",
              "\n",
              "  [theme=dark] .colab-df-quickchart {\n",
              "      --bg-color: #3B4455;\n",
              "      --fill-color: #D2E3FC;\n",
              "      --hover-bg-color: #434B5C;\n",
              "      --hover-fill-color: #FFFFFF;\n",
              "      --disabled-bg-color: #3B4455;\n",
              "      --disabled-fill-color: #666;\n",
              "  }\n",
              "\n",
              "  .colab-df-quickchart {\n",
              "    background-color: var(--bg-color);\n",
              "    border: none;\n",
              "    border-radius: 50%;\n",
              "    cursor: pointer;\n",
              "    display: none;\n",
              "    fill: var(--fill-color);\n",
              "    height: 32px;\n",
              "    padding: 0;\n",
              "    width: 32px;\n",
              "  }\n",
              "\n",
              "  .colab-df-quickchart:hover {\n",
              "    background-color: var(--hover-bg-color);\n",
              "    box-shadow: 0 1px 2px rgba(60, 64, 67, 0.3), 0 1px 3px 1px rgba(60, 64, 67, 0.15);\n",
              "    fill: var(--button-hover-fill-color);\n",
              "  }\n",
              "\n",
              "  .colab-df-quickchart-complete:disabled,\n",
              "  .colab-df-quickchart-complete:disabled:hover {\n",
              "    background-color: var(--disabled-bg-color);\n",
              "    fill: var(--disabled-fill-color);\n",
              "    box-shadow: none;\n",
              "  }\n",
              "\n",
              "  .colab-df-spinner {\n",
              "    border: 2px solid var(--fill-color);\n",
              "    border-color: transparent;\n",
              "    border-bottom-color: var(--fill-color);\n",
              "    animation:\n",
              "      spin 1s steps(1) infinite;\n",
              "  }\n",
              "\n",
              "  @keyframes spin {\n",
              "    0% {\n",
              "      border-color: transparent;\n",
              "      border-bottom-color: var(--fill-color);\n",
              "      border-left-color: var(--fill-color);\n",
              "    }\n",
              "    20% {\n",
              "      border-color: transparent;\n",
              "      border-left-color: var(--fill-color);\n",
              "      border-top-color: var(--fill-color);\n",
              "    }\n",
              "    30% {\n",
              "      border-color: transparent;\n",
              "      border-left-color: var(--fill-color);\n",
              "      border-top-color: var(--fill-color);\n",
              "      border-right-color: var(--fill-color);\n",
              "    }\n",
              "    40% {\n",
              "      border-color: transparent;\n",
              "      border-right-color: var(--fill-color);\n",
              "      border-top-color: var(--fill-color);\n",
              "    }\n",
              "    60% {\n",
              "      border-color: transparent;\n",
              "      border-right-color: var(--fill-color);\n",
              "    }\n",
              "    80% {\n",
              "      border-color: transparent;\n",
              "      border-right-color: var(--fill-color);\n",
              "      border-bottom-color: var(--fill-color);\n",
              "    }\n",
              "    90% {\n",
              "      border-color: transparent;\n",
              "      border-bottom-color: var(--fill-color);\n",
              "    }\n",
              "  }\n",
              "</style>\n",
              "\n",
              "  <script>\n",
              "    async function quickchart(key) {\n",
              "      const quickchartButtonEl =\n",
              "        document.querySelector('#' + key + ' button');\n",
              "      quickchartButtonEl.disabled = true;  // To prevent multiple clicks.\n",
              "      quickchartButtonEl.classList.add('colab-df-spinner');\n",
              "      try {\n",
              "        const charts = await google.colab.kernel.invokeFunction(\n",
              "            'suggestCharts', [key], {});\n",
              "      } catch (error) {\n",
              "        console.error('Error during call to suggestCharts:', error);\n",
              "      }\n",
              "      quickchartButtonEl.classList.remove('colab-df-spinner');\n",
              "      quickchartButtonEl.classList.add('colab-df-quickchart-complete');\n",
              "    }\n",
              "    (() => {\n",
              "      let quickchartButtonEl =\n",
              "        document.querySelector('#df-b64f3737-f663-4cac-8603-a2e86c854272 button');\n",
              "      quickchartButtonEl.style.display =\n",
              "        google.colab.kernel.accessAllowed ? 'block' : 'none';\n",
              "    })();\n",
              "  </script>\n",
              "</div>\n",
              "    </div>\n",
              "  </div>\n"
            ],
            "application/vnd.google.colaboratory.intrinsic+json": {
              "type": "dataframe",
              "summary": "{\n  \"name\": \"table_4\",\n  \"rows\": 75,\n  \"fields\": [\n    {\n      \"column\": \"event_subtype\",\n      \"properties\": {\n        \"dtype\": \"string\",\n        \"num_unique_values\": 75,\n        \"samples\": [\n          \"tag_5921\",\n          \"tag_5916\",\n          \"tag_6605\"\n        ],\n        \"semantic_type\": \"\",\n        \"description\": \"\"\n      }\n    },\n    {\n      \"column\": \"question_id\",\n      \"properties\": {\n        \"dtype\": \"number\",\n        \"std\": 28,\n        \"min\": 1,\n        \"max\": 233,\n        \"num_unique_values\": 27,\n        \"samples\": [\n          23,\n          14,\n          21\n        ],\n        \"semantic_type\": \"\",\n        \"description\": \"\"\n      }\n    }\n  ]\n}"
            }
          },
          "metadata": {},
          "execution_count": 95
        }
      ],
      "source": [
        "table_4.groupby(\"event_subtype\").agg({\"question_id\" : \"count\"}).sort_values(by=\"question_id\", ascending=False)"
      ]
    },
    {
      "cell_type": "code",
      "execution_count": null,
      "metadata": {
        "colab": {
          "base_uri": "https://localhost:8080/"
        },
        "id": "eQFLA9VWSmjN",
        "outputId": "73a63e45-4877-4ada-92dc-f94247343dba"
      },
      "outputs": [
        {
          "output_type": "stream",
          "name": "stdout",
          "text": [
            "Самый популярный тег: tag_5922\n"
          ]
        }
      ],
      "source": [
        "tag_str = table_4.groupby(\"event_subtype\").agg({\"question_id\" : \"count\"}).sort_values(by=\"question_id\", ascending=False).iloc[0].name\n",
        "\n",
        "print(f\"Самый популярный тег: {tag_str}\")"
      ]
    },
    {
      "cell_type": "markdown",
      "metadata": {
        "id": "yAiH7hUxSmjN"
      },
      "source": [
        "# Задание 5: Тег, который чаще всего ставят агенты (5 баллов)\n",
        "\n",
        "Выведите тег (event_subtype), который чаще всего ставят агенты в тикетах. Рассматривайте только события с типом event_type = 'tag_set_manually' (значения в других столбцах могут быть любыми)."
      ]
    },
    {
      "cell_type": "code",
      "execution_count": null,
      "metadata": {
        "id": "YhtZi1iESmjO"
      },
      "outputs": [],
      "source": [
        "table_5 = table[table.event_type == \"tag_set_manually\"]"
      ]
    },
    {
      "cell_type": "code",
      "execution_count": null,
      "metadata": {
        "colab": {
          "base_uri": "https://localhost:8080/"
        },
        "id": "zTFZYrwZSmjO",
        "outputId": "1342c2f3-88ed-47e8-b954-423cb0eee751"
      },
      "outputs": [
        {
          "output_type": "execute_result",
          "data": {
            "text/plain": [
              "array(['agent', 'ml_agent'], dtype=object)"
            ]
          },
          "metadata": {},
          "execution_count": 98
        }
      ],
      "source": [
        "table_5.agent_role.unique()\n",
        "# тэги могут ставить, как сотрудники, так и ml_agent-ы"
      ]
    },
    {
      "cell_type": "code",
      "execution_count": null,
      "metadata": {
        "id": "hvks4MhASmjO"
      },
      "outputs": [],
      "source": [
        "tag_str = table_5.event_subtype.value_counts().index[0]"
      ]
    },
    {
      "cell_type": "code",
      "execution_count": null,
      "metadata": {
        "colab": {
          "base_uri": "https://localhost:8080/"
        },
        "id": "SUGJw7V2SmjP",
        "outputId": "d23aa744-9cdb-46fb-d71b-52ad6ec3adb7"
      },
      "outputs": [
        {
          "output_type": "stream",
          "name": "stdout",
          "text": [
            "Тег, который чаще всего ставят агенты в тикетах: tag_5922\n"
          ]
        }
      ],
      "source": [
        "print(f\"Тег, который чаще всего ставят агенты в тикетах: {tag_str}\")"
      ]
    },
    {
      "cell_type": "markdown",
      "metadata": {
        "id": "DhFtiPPiSmjQ"
      },
      "source": [
        "# Задание 6: Изменение категории тикета со статусом 0 (5 баллов)\n",
        "\n",
        "Выведите номер тикета (question_id), в котором есть запись event_type = 'set_category', если на момент записи статус тикета (status) был равен 0."
      ]
    },
    {
      "cell_type": "code",
      "execution_count": null,
      "metadata": {
        "colab": {
          "base_uri": "https://localhost:8080/",
          "height": 133
        },
        "id": "izrcseLQSmjQ",
        "outputId": "f8f39c51-9273-4fa3-c6ac-1db7064f3d9a"
      },
      "outputs": [
        {
          "output_type": "execute_result",
          "data": {
            "text/plain": [
              "                     time   tags  question_id    event_type nav_screen  \\\n",
              "47568 2023-10-15 17:58:40  [200]     61865540  set_category   22884714   \n",
              "\n",
              "      event_subtype agent_role  status  user_type  reply_id  \n",
              "47568           NaN      agent       0  specagent         0  "
            ],
            "text/html": [
              "\n",
              "  <div id=\"df-7bd12e65-7c9a-4e3c-961c-90c4685e8bf0\" class=\"colab-df-container\">\n",
              "    <div>\n",
              "<style scoped>\n",
              "    .dataframe tbody tr th:only-of-type {\n",
              "        vertical-align: middle;\n",
              "    }\n",
              "\n",
              "    .dataframe tbody tr th {\n",
              "        vertical-align: top;\n",
              "    }\n",
              "\n",
              "    .dataframe thead th {\n",
              "        text-align: right;\n",
              "    }\n",
              "</style>\n",
              "<table border=\"1\" class=\"dataframe\">\n",
              "  <thead>\n",
              "    <tr style=\"text-align: right;\">\n",
              "      <th></th>\n",
              "      <th>time</th>\n",
              "      <th>tags</th>\n",
              "      <th>question_id</th>\n",
              "      <th>event_type</th>\n",
              "      <th>nav_screen</th>\n",
              "      <th>event_subtype</th>\n",
              "      <th>agent_role</th>\n",
              "      <th>status</th>\n",
              "      <th>user_type</th>\n",
              "      <th>reply_id</th>\n",
              "    </tr>\n",
              "  </thead>\n",
              "  <tbody>\n",
              "    <tr>\n",
              "      <th>47568</th>\n",
              "      <td>2023-10-15 17:58:40</td>\n",
              "      <td>[200]</td>\n",
              "      <td>61865540</td>\n",
              "      <td>set_category</td>\n",
              "      <td>22884714</td>\n",
              "      <td>NaN</td>\n",
              "      <td>agent</td>\n",
              "      <td>0</td>\n",
              "      <td>specagent</td>\n",
              "      <td>0</td>\n",
              "    </tr>\n",
              "  </tbody>\n",
              "</table>\n",
              "</div>\n",
              "    <div class=\"colab-df-buttons\">\n",
              "\n",
              "  <div class=\"colab-df-container\">\n",
              "    <button class=\"colab-df-convert\" onclick=\"convertToInteractive('df-7bd12e65-7c9a-4e3c-961c-90c4685e8bf0')\"\n",
              "            title=\"Convert this dataframe to an interactive table.\"\n",
              "            style=\"display:none;\">\n",
              "\n",
              "  <svg xmlns=\"http://www.w3.org/2000/svg\" height=\"24px\" viewBox=\"0 -960 960 960\">\n",
              "    <path d=\"M120-120v-720h720v720H120Zm60-500h600v-160H180v160Zm220 220h160v-160H400v160Zm0 220h160v-160H400v160ZM180-400h160v-160H180v160Zm440 0h160v-160H620v160ZM180-180h160v-160H180v160Zm440 0h160v-160H620v160Z\"/>\n",
              "  </svg>\n",
              "    </button>\n",
              "\n",
              "  <style>\n",
              "    .colab-df-container {\n",
              "      display:flex;\n",
              "      gap: 12px;\n",
              "    }\n",
              "\n",
              "    .colab-df-convert {\n",
              "      background-color: #E8F0FE;\n",
              "      border: none;\n",
              "      border-radius: 50%;\n",
              "      cursor: pointer;\n",
              "      display: none;\n",
              "      fill: #1967D2;\n",
              "      height: 32px;\n",
              "      padding: 0 0 0 0;\n",
              "      width: 32px;\n",
              "    }\n",
              "\n",
              "    .colab-df-convert:hover {\n",
              "      background-color: #E2EBFA;\n",
              "      box-shadow: 0px 1px 2px rgba(60, 64, 67, 0.3), 0px 1px 3px 1px rgba(60, 64, 67, 0.15);\n",
              "      fill: #174EA6;\n",
              "    }\n",
              "\n",
              "    .colab-df-buttons div {\n",
              "      margin-bottom: 4px;\n",
              "    }\n",
              "\n",
              "    [theme=dark] .colab-df-convert {\n",
              "      background-color: #3B4455;\n",
              "      fill: #D2E3FC;\n",
              "    }\n",
              "\n",
              "    [theme=dark] .colab-df-convert:hover {\n",
              "      background-color: #434B5C;\n",
              "      box-shadow: 0px 1px 3px 1px rgba(0, 0, 0, 0.15);\n",
              "      filter: drop-shadow(0px 1px 2px rgba(0, 0, 0, 0.3));\n",
              "      fill: #FFFFFF;\n",
              "    }\n",
              "  </style>\n",
              "\n",
              "    <script>\n",
              "      const buttonEl =\n",
              "        document.querySelector('#df-7bd12e65-7c9a-4e3c-961c-90c4685e8bf0 button.colab-df-convert');\n",
              "      buttonEl.style.display =\n",
              "        google.colab.kernel.accessAllowed ? 'block' : 'none';\n",
              "\n",
              "      async function convertToInteractive(key) {\n",
              "        const element = document.querySelector('#df-7bd12e65-7c9a-4e3c-961c-90c4685e8bf0');\n",
              "        const dataTable =\n",
              "          await google.colab.kernel.invokeFunction('convertToInteractive',\n",
              "                                                    [key], {});\n",
              "        if (!dataTable) return;\n",
              "\n",
              "        const docLinkHtml = 'Like what you see? Visit the ' +\n",
              "          '<a target=\"_blank\" href=https://colab.research.google.com/notebooks/data_table.ipynb>data table notebook</a>'\n",
              "          + ' to learn more about interactive tables.';\n",
              "        element.innerHTML = '';\n",
              "        dataTable['output_type'] = 'display_data';\n",
              "        await google.colab.output.renderOutput(dataTable, element);\n",
              "        const docLink = document.createElement('div');\n",
              "        docLink.innerHTML = docLinkHtml;\n",
              "        element.appendChild(docLink);\n",
              "      }\n",
              "    </script>\n",
              "  </div>\n",
              "\n",
              "    </div>\n",
              "  </div>\n"
            ],
            "application/vnd.google.colaboratory.intrinsic+json": {
              "type": "dataframe",
              "repr_error": "0"
            }
          },
          "metadata": {},
          "execution_count": 102
        }
      ],
      "source": [
        "table[(table.event_type == 'set_category')&(table.status == 0)]"
      ]
    },
    {
      "cell_type": "code",
      "execution_count": null,
      "metadata": {
        "colab": {
          "base_uri": "https://localhost:8080/"
        },
        "id": "ikywguQ4SmjQ",
        "outputId": "f24a89b6-97a6-4a59-aac4-7c91967d5a20"
      },
      "outputs": [
        {
          "output_type": "execute_result",
          "data": {
            "text/plain": [
              "61865540"
            ]
          },
          "metadata": {},
          "execution_count": 103
        }
      ],
      "source": [
        "ex6_id = table[(table.event_type == 'set_category')&(table.status == 0)].question_id.values[0]\n",
        "\n",
        "ex6_id"
      ]
    },
    {
      "cell_type": "markdown",
      "metadata": {
        "id": "EeHS1J9RSmjR"
      },
      "source": [
        "# Задание 7: Расчет UWT (15)\n",
        "\n",
        "Необходимо рассчитать показатель User Waiting Time (UWT) - среднего времени ожидания пользователем ответа сотрудника. Показатель рассчитывается на основании данных из таблицы support_questions, где фиксируются цепочки взаимодействий \"вопрос пользователя\" -> \"ответ сотрудника\". В ответе укажите среднее время в секундах с точностью до сотых.\n",
        "UWT = среднее время ожидания пользователя по всем цепочкам \"вопрос пользователя\" -> \"ответ сотрудника\" за период.\n",
        "\n",
        "Примечания:\n",
        "В качестве ответа агента необходимо учитывать строки, где event_type = 'agent_reply' (с любыми значениями в других столбцах).\n",
        "В качестве вопроса пользователя необходимо учитывать строки, где event_type = ‘reply’ (с любыми значениями в других столбцах).\n",
        "Пользователь может написать 2 и более вопроса подряд, в этом случае учитывается вопрос, который задан раньше.\n",
        "Сотрудник может дать 2 и более ответа подряд, в этом случае учитывается ответ, который дан раньше.\n",
        "Удаленные вопросы и ответы исключаются из расчета.\n"
      ]
    },
    {
      "cell_type": "markdown",
      "metadata": {
        "id": "Y-tiBys_SmjR"
      },
      "source": [
        "# Задание 8: Расчёт SL (15 баллов)\n",
        "\n",
        "Необходимо рассчитать показатель Service Level (SL) - процент ответов, данных в течение целевого времени (15 минут). Показатель рассчитывается на основании данных из таблицы support_questions, где фиксируются цепочки взаимодействий \"вопрос пользователя\" -> \"ответ сотрудника\". В ответе укажите значение с точностью до сотых.\n",
        "SL = (количество цепочек с UWT ≤ 15 минут / общее количество цепочек) * 100%\n",
        "\n",
        "Примечания:\n",
        "В качестве ответа агента необходимо учитывать строки, где event_type = 'agent_reply' (с любыми значениями в других столбцах).\n",
        "В качестве вопроса пользователя необходимо учитывать строки, где event_type = ‘reply’ (с любыми значениями в других столбцах).\n",
        "Пользователь может написать 2 и более вопроса подряд, в этом случае учитывается вопрос, который задан раньше.\n",
        "Сотрудник может дать 2 и более ответа подряд, в этом случае учитывается ответ, который дан раньше.\n",
        "Удаленные вопросы и ответы исключаются из расчета.\n"
      ]
    },
    {
      "cell_type": "code",
      "source": [
        "df = table.copy()\n",
        "\n",
        "df_start = df[(df['event_type'] == 'reply') | (df['event_type'] == 'create_question')] # в отдельный массив отфильтровали события, с которых начинается расчет времени\n",
        "df_start = df_start[(df_start['reply_id'] != 0) | (df_start['event_type'] == 'create_question')]\n",
        "df_end = df[df['event_type'] == 'agent_reply'] # в отдельный массив отфильтровали события, на которых завершается расчет времени\n",
        "df_del = df[df['event_type'] == 'delete_reply'] # в отдельный массив отфильтровали события удаления\n",
        "# оставили только нужные поля\n",
        "df_del = df_del[['question_id','reply_id']]\n",
        "\n",
        "# дальше исключаем записи с удаленными сообщениями. Событий восстановления в массиве нет\n",
        "df_start = pd.merge(df_start, df_del, on=['question_id', 'reply_id'], how='left', indicator=True)\n",
        "df_start = df_start[df_start['_merge'] == 'left_only']\n",
        "df_start = df_start.drop(columns=['_merge'])\n",
        "df_end = pd.merge(df_end, df_del, on=['question_id', 'reply_id'], how='left', indicator=True)\n",
        "df_end = df_end[df_end['_merge'] == 'left_only']\n",
        "df_end = df_end.drop(columns=['_merge'])\n",
        "\n",
        "# оставили только нужные поля\n",
        "df_start = df_start[['question_id','time']]\n",
        "df_end = df_end[['question_id','user_type','time']]\n",
        "\n",
        "# переименовали поле для конечного массива\n",
        "df_start = df_start.rename(columns={'time': 'start_time'})\n",
        "df_end = df_end.rename(columns={'time': 'end_time'})\n",
        "df = pd.merge(df_start, df_end, on='question_id', how='inner') #    объединили массивы по номеру тикета и оставили только совпадающие записи\n",
        "\n",
        "df = df[df['start_time']<=df['end_time']] # отфильтровали массив, оставили только записи, где вопрос был раньше ответа\n",
        "df = df.groupby(['question_id','user_type', 'start_time'])['end_time'].min().reset_index() # для каждого вопроса нашли первый ответ\n",
        "df = df.groupby(['question_id','user_type', 'end_time'])['start_time'].min().reset_index() # для каждого ответа нашли первый вопрос\n",
        "df = df[['question_id','user_type', 'start_time', 'end_time']] # упорядочили столбцы. В итоге получили цепочки вопрос-ответ\n",
        "\n",
        "df['uwt'] = (df['end_time'] - df['start_time']).dt.total_seconds() # посчитали uwt - время между вопросом и ответом в новый столбец\n",
        "df['results'] = 'result' # добавили столбец для удобной группировки\n",
        "\n",
        "df['toSL_15'] = df['uwt'].apply(lambda x: 1 if x <= 900 else 0) # добавили столбец с маркером, если uwt <= 15 минут для расчета SL\n",
        "df['amount'] = 1 # для простоты вычислений добавили столбец с количеством цепочек вопрос-ответ\n",
        "\n",
        "# посчитаем для каждой недели среднее UWT, количество цепочек вопрос-ответ и количество цепочек с uwt <= 15 минут\n",
        "df_78 = df.groupby('results').agg({\n",
        "    'uwt': 'mean',\n",
        "    'amount': 'sum',\n",
        "    'toSL_15': 'sum'\n",
        "}).reset_index()\n",
        "df_78['sl'] = 100 * df_78[ 'toSL_15'] / df_78['amount'] # посчитали SL\n",
        "df_78 = df_78[['uwt','sl']]\n",
        "\n",
        "df_78"
      ],
      "metadata": {
        "colab": {
          "base_uri": "https://localhost:8080/",
          "height": 100
        },
        "id": "qa9Qm1mu9Wos",
        "outputId": "989bec27-17cf-4452-da36-d56565be1099"
      },
      "execution_count": null,
      "outputs": [
        {
          "output_type": "execute_result",
          "data": {
            "text/plain": [
              "           uwt         sl\n",
              "0  2870.578277  78.078715"
            ],
            "text/html": [
              "\n",
              "  <div id=\"df-4597b78f-4662-4cc1-9a44-1c98734acd94\" class=\"colab-df-container\">\n",
              "    <div>\n",
              "<style scoped>\n",
              "    .dataframe tbody tr th:only-of-type {\n",
              "        vertical-align: middle;\n",
              "    }\n",
              "\n",
              "    .dataframe tbody tr th {\n",
              "        vertical-align: top;\n",
              "    }\n",
              "\n",
              "    .dataframe thead th {\n",
              "        text-align: right;\n",
              "    }\n",
              "</style>\n",
              "<table border=\"1\" class=\"dataframe\">\n",
              "  <thead>\n",
              "    <tr style=\"text-align: right;\">\n",
              "      <th></th>\n",
              "      <th>uwt</th>\n",
              "      <th>sl</th>\n",
              "    </tr>\n",
              "  </thead>\n",
              "  <tbody>\n",
              "    <tr>\n",
              "      <th>0</th>\n",
              "      <td>2870.578277</td>\n",
              "      <td>78.078715</td>\n",
              "    </tr>\n",
              "  </tbody>\n",
              "</table>\n",
              "</div>\n",
              "    <div class=\"colab-df-buttons\">\n",
              "\n",
              "  <div class=\"colab-df-container\">\n",
              "    <button class=\"colab-df-convert\" onclick=\"convertToInteractive('df-4597b78f-4662-4cc1-9a44-1c98734acd94')\"\n",
              "            title=\"Convert this dataframe to an interactive table.\"\n",
              "            style=\"display:none;\">\n",
              "\n",
              "  <svg xmlns=\"http://www.w3.org/2000/svg\" height=\"24px\" viewBox=\"0 -960 960 960\">\n",
              "    <path d=\"M120-120v-720h720v720H120Zm60-500h600v-160H180v160Zm220 220h160v-160H400v160Zm0 220h160v-160H400v160ZM180-400h160v-160H180v160Zm440 0h160v-160H620v160ZM180-180h160v-160H180v160Zm440 0h160v-160H620v160Z\"/>\n",
              "  </svg>\n",
              "    </button>\n",
              "\n",
              "  <style>\n",
              "    .colab-df-container {\n",
              "      display:flex;\n",
              "      gap: 12px;\n",
              "    }\n",
              "\n",
              "    .colab-df-convert {\n",
              "      background-color: #E8F0FE;\n",
              "      border: none;\n",
              "      border-radius: 50%;\n",
              "      cursor: pointer;\n",
              "      display: none;\n",
              "      fill: #1967D2;\n",
              "      height: 32px;\n",
              "      padding: 0 0 0 0;\n",
              "      width: 32px;\n",
              "    }\n",
              "\n",
              "    .colab-df-convert:hover {\n",
              "      background-color: #E2EBFA;\n",
              "      box-shadow: 0px 1px 2px rgba(60, 64, 67, 0.3), 0px 1px 3px 1px rgba(60, 64, 67, 0.15);\n",
              "      fill: #174EA6;\n",
              "    }\n",
              "\n",
              "    .colab-df-buttons div {\n",
              "      margin-bottom: 4px;\n",
              "    }\n",
              "\n",
              "    [theme=dark] .colab-df-convert {\n",
              "      background-color: #3B4455;\n",
              "      fill: #D2E3FC;\n",
              "    }\n",
              "\n",
              "    [theme=dark] .colab-df-convert:hover {\n",
              "      background-color: #434B5C;\n",
              "      box-shadow: 0px 1px 3px 1px rgba(0, 0, 0, 0.15);\n",
              "      filter: drop-shadow(0px 1px 2px rgba(0, 0, 0, 0.3));\n",
              "      fill: #FFFFFF;\n",
              "    }\n",
              "  </style>\n",
              "\n",
              "    <script>\n",
              "      const buttonEl =\n",
              "        document.querySelector('#df-4597b78f-4662-4cc1-9a44-1c98734acd94 button.colab-df-convert');\n",
              "      buttonEl.style.display =\n",
              "        google.colab.kernel.accessAllowed ? 'block' : 'none';\n",
              "\n",
              "      async function convertToInteractive(key) {\n",
              "        const element = document.querySelector('#df-4597b78f-4662-4cc1-9a44-1c98734acd94');\n",
              "        const dataTable =\n",
              "          await google.colab.kernel.invokeFunction('convertToInteractive',\n",
              "                                                    [key], {});\n",
              "        if (!dataTable) return;\n",
              "\n",
              "        const docLinkHtml = 'Like what you see? Visit the ' +\n",
              "          '<a target=\"_blank\" href=https://colab.research.google.com/notebooks/data_table.ipynb>data table notebook</a>'\n",
              "          + ' to learn more about interactive tables.';\n",
              "        element.innerHTML = '';\n",
              "        dataTable['output_type'] = 'display_data';\n",
              "        await google.colab.output.renderOutput(dataTable, element);\n",
              "        const docLink = document.createElement('div');\n",
              "        docLink.innerHTML = docLinkHtml;\n",
              "        element.appendChild(docLink);\n",
              "      }\n",
              "    </script>\n",
              "  </div>\n",
              "\n",
              "    </div>\n",
              "  </div>\n"
            ],
            "application/vnd.google.colaboratory.intrinsic+json": {
              "type": "dataframe",
              "variable_name": "df_78",
              "summary": "{\n  \"name\": \"df_78\",\n  \"rows\": 1,\n  \"fields\": [\n    {\n      \"column\": \"uwt\",\n      \"properties\": {\n        \"dtype\": \"number\",\n        \"std\": null,\n        \"min\": 2870.578277118996,\n        \"max\": 2870.578277118996,\n        \"num_unique_values\": 1,\n        \"samples\": [\n          2870.578277118996\n        ],\n        \"semantic_type\": \"\",\n        \"description\": \"\"\n      }\n    },\n    {\n      \"column\": \"sl\",\n      \"properties\": {\n        \"dtype\": \"number\",\n        \"std\": null,\n        \"min\": 78.07871545240621,\n        \"max\": 78.07871545240621,\n        \"num_unique_values\": 1,\n        \"samples\": [\n          78.07871545240621\n        ],\n        \"semantic_type\": \"\",\n        \"description\": \"\"\n      }\n    }\n  ]\n}"
            }
          },
          "metadata": {},
          "execution_count": 104
        }
      ]
    },
    {
      "cell_type": "markdown",
      "source": [
        "# Задание 9: Определение скорости ответа сотрудников (10 баллов)\n",
        "\n",
        "Определите, сотрудники с каким значением поля user_type дают самые быстрые ответы на вопросы пользователей. Для этого нужно рассчитать среднее (mean) время ответа для каждой группы сотрудников и определить группу с наименьшим средним временем ответа.\n",
        "\n",
        "В качестве ответа агента необходимо учитывать строки, где event_type = 'agent_reply' (с любыми значениями в других столбцах). В качестве вопроса пользователя необходимо учитывать строки, где event_type = ‘reply’ (с любыми значениями в других столбцах).\n"
      ],
      "metadata": {
        "id": "IN_nzgCLDF15"
      }
    },
    {
      "cell_type": "code",
      "source": [
        "df9 = df.groupby(['user_type'])['uwt'].mean().reset_index() # посчитали средний uwt для каждого типа пользователей\n",
        "df9 = df9.sort_values('uwt', ascending=True) # отсортировали результат по возростанию\n",
        "df9 = df9.iloc[0] # забрали первую строку\n",
        "df9[['user_type']]"
      ],
      "metadata": {
        "colab": {
          "base_uri": "https://localhost:8080/",
          "height": 133
        },
        "id": "qng5r3ZvCgCc",
        "outputId": "de66a370-b91e-459f-ac6a-667fd66f7e19"
      },
      "execution_count": null,
      "outputs": [
        {
          "output_type": "execute_result",
          "data": {
            "text/plain": [
              "user_type    specagent\n",
              "Name: 1, dtype: object"
            ],
            "text/html": [
              "<div>\n",
              "<style scoped>\n",
              "    .dataframe tbody tr th:only-of-type {\n",
              "        vertical-align: middle;\n",
              "    }\n",
              "\n",
              "    .dataframe tbody tr th {\n",
              "        vertical-align: top;\n",
              "    }\n",
              "\n",
              "    .dataframe thead th {\n",
              "        text-align: right;\n",
              "    }\n",
              "</style>\n",
              "<table border=\"1\" class=\"dataframe\">\n",
              "  <thead>\n",
              "    <tr style=\"text-align: right;\">\n",
              "      <th></th>\n",
              "      <th>1</th>\n",
              "    </tr>\n",
              "  </thead>\n",
              "  <tbody>\n",
              "    <tr>\n",
              "      <th>user_type</th>\n",
              "      <td>specagent</td>\n",
              "    </tr>\n",
              "  </tbody>\n",
              "</table>\n",
              "</div><br><label><b>dtype:</b> object</label>"
            ]
          },
          "metadata": {},
          "execution_count": 105
        }
      ]
    },
    {
      "cell_type": "markdown",
      "metadata": {
        "id": "aCz_PFL1SmjU"
      },
      "source": [
        "# Задание 10: Время до закрытия тикета (10 баллов)\n",
        "\n",
        "Посчитайте среднее время от последнего действия в тикете до его закрытия по таймауту. Используйте только действия, которые произошли до события с типом event_type = 'closed_by_time'. Если в тикете было несколько таких событий, используйте последнее из них. В ответе дайте среднее (mean) количество дней с точностью до сотых.\n",
        "\n",
        "Примечание: исключите из расчета действия, которые произошли после закрытия по таймауту."
      ]
    },
    {
      "cell_type": "code",
      "source": [
        "df = table.copy()\n",
        "\n",
        "df_start = df[(df['event_type'] != 'closed_by_time') & (df['event_type'] != 'read')] # в отдельный массив отфильтровали события, с которых начинается расчет времени\n",
        "df_start = df_start.rename(columns={'time': 'start_time'})    # переименовали столбец для удобства\n",
        "df_end = df[df['event_type'] == 'closed_by_time'] # в отдельный массив отфильтровали события, на которых завершается расчет времени\n",
        "df_end = df_end[['question_id','time']] # убираем лишние столбцы\n",
        "df_end = df_end.rename(columns={'time': 'end_time'}) # переименовали столбец для удобства\n",
        "df_end = df_end.groupby(['question_id'])['end_time'].max().reset_index() # оставляем последнее закрытие по таймауту\n",
        "df = pd.merge(df_start, df_end, on='question_id', how='inner') # оставили в исходном массиве только тикеты, закрытые по таймауту\n",
        "df = df[df['end_time'] >= df['start_time']] # оставили только события, которые были до закрытия по таймауту\n",
        "df = df.groupby(['question_id','end_time'])['start_time'].max().reset_index() # оставляем время последнего события перед таймаутом\n",
        "df['timediff'] = (df['end_time'] - df['start_time']).dt.total_seconds() # посчитали время между последним действием и закрытием по таймауту для каждого тикета в секундах\n",
        "df['timediff'] = df['timediff']/60/60/24 # секунды перевели в дни\n",
        "\n",
        "df10 = df.agg({'timediff' : 'mean'}) # посчитали среднее количество дней между последним действием и таймаутом\n",
        "df10"
      ],
      "metadata": {
        "colab": {
          "base_uri": "https://localhost:8080/",
          "height": 133
        },
        "id": "k2UFIPhuDXjR",
        "outputId": "73ce04bd-5b35-4451-cc9e-2670d5183a66"
      },
      "execution_count": null,
      "outputs": [
        {
          "output_type": "execute_result",
          "data": {
            "text/plain": [
              "timediff    4.581036\n",
              "dtype: float64"
            ],
            "text/html": [
              "<div>\n",
              "<style scoped>\n",
              "    .dataframe tbody tr th:only-of-type {\n",
              "        vertical-align: middle;\n",
              "    }\n",
              "\n",
              "    .dataframe tbody tr th {\n",
              "        vertical-align: top;\n",
              "    }\n",
              "\n",
              "    .dataframe thead th {\n",
              "        text-align: right;\n",
              "    }\n",
              "</style>\n",
              "<table border=\"1\" class=\"dataframe\">\n",
              "  <thead>\n",
              "    <tr style=\"text-align: right;\">\n",
              "      <th></th>\n",
              "      <th>0</th>\n",
              "    </tr>\n",
              "  </thead>\n",
              "  <tbody>\n",
              "    <tr>\n",
              "      <th>timediff</th>\n",
              "      <td>4.581036</td>\n",
              "    </tr>\n",
              "  </tbody>\n",
              "</table>\n",
              "</div><br><label><b>dtype:</b> float64</label>"
            ]
          },
          "metadata": {},
          "execution_count": 106
        }
      ]
    },
    {
      "cell_type": "markdown",
      "metadata": {
        "id": "-43_gvc_SmjV"
      },
      "source": [
        "# Задание 11: Время между назначением и сбросом агента (10 баллов)\n",
        "\n",
        "Посчитайте среднее время от назначения сотрудника до сброса (от event_type = 'set_agent' до event_type = 'drop_agent'). В ответе укажите среднее (mean) время в секундах с точностью до сотых.\n",
        "\n",
        "Примечания:\n",
        "Учитывайте только ближайшие друг к другу события. Если было несколько событий set_agent и/или drop_agent подряд, берите последний set_agent и первый drop_agent.\n",
        "Исключите из расчета сбросы, инициированные пользователями."
      ]
    },
    {
      "cell_type": "code",
      "execution_count": null,
      "metadata": {
        "id": "fh_pMqr4SmjW",
        "outputId": "e3dfaaaa-a447-4d9d-f65f-10f8fec0d307",
        "colab": {
          "base_uri": "https://localhost:8080/",
          "height": 133
        }
      },
      "outputs": [
        {
          "output_type": "execute_result",
          "data": {
            "text/plain": [
              "timediff    4.581036\n",
              "dtype: float64"
            ],
            "text/html": [
              "<div>\n",
              "<style scoped>\n",
              "    .dataframe tbody tr th:only-of-type {\n",
              "        vertical-align: middle;\n",
              "    }\n",
              "\n",
              "    .dataframe tbody tr th {\n",
              "        vertical-align: top;\n",
              "    }\n",
              "\n",
              "    .dataframe thead th {\n",
              "        text-align: right;\n",
              "    }\n",
              "</style>\n",
              "<table border=\"1\" class=\"dataframe\">\n",
              "  <thead>\n",
              "    <tr style=\"text-align: right;\">\n",
              "      <th></th>\n",
              "      <th>0</th>\n",
              "    </tr>\n",
              "  </thead>\n",
              "  <tbody>\n",
              "    <tr>\n",
              "      <th>timediff</th>\n",
              "      <td>4.581036</td>\n",
              "    </tr>\n",
              "  </tbody>\n",
              "</table>\n",
              "</div><br><label><b>dtype:</b> float64</label>"
            ]
          },
          "metadata": {},
          "execution_count": 107
        }
      ],
      "source": [
        "df = table.copy()\n",
        "\n",
        "df_start = df[(df['event_type'] != 'closed_by_time') & (df['event_type'] != 'read')] # в отдельный массив отфильтровали события, с которых начинается расчет времени\n",
        "df_start = df_start.rename(columns={'time': 'start_time'})    # переименовали столбец для удобства\n",
        "df_end = df[df['event_type'] == 'closed_by_time'] # в отдельный массив отфильтровали события, на которых завершается расчет времени\n",
        "df_end = df_end[['question_id','time']] # убираем лишние столбцы\n",
        "df_end = df_end.rename(columns={'time': 'end_time'}) # переименовали столбец для удобства\n",
        "df_end = df_end.groupby(['question_id'])['end_time'].max().reset_index() # оставляем последнее закрытие по таймауту\n",
        "df = pd.merge(df_start, df_end, on='question_id', how='inner') # оставили в исходном массиве только тикеты, закрытые по таймауту\n",
        "df = df[df['end_time'] >= df['start_time']] # оставили только события, которые были до закрытия по таймауту\n",
        "\n",
        "df11 = df.groupby(['question_id','end_time'])['start_time'].max().reset_index() # оставляем время последнего события перед таймаутом\n",
        "df11['timediff'] = (df11['end_time'] - df11['start_time']).dt.total_seconds() # посчитали время между последним действием и закрытием по таймауту для каждого тикета в секундах\n",
        "df11['timediff'] = df11['timediff']/60/60/24 # секунды перевели в дни\n",
        "df11 = df11.agg({'timediff' : 'mean'}) # посчитали среднее количество дней между последним действием и таймаутом\n",
        "df11"
      ]
    }
  ],
  "metadata": {
    "kernelspec": {
      "display_name": "ts",
      "language": "python",
      "name": "ts"
    },
    "language_info": {
      "codemirror_mode": {
        "name": "ipython",
        "version": 3
      },
      "file_extension": ".py",
      "mimetype": "text/x-python",
      "name": "python",
      "nbconvert_exporter": "python",
      "pygments_lexer": "ipython3",
      "version": "3.10.13"
    },
    "colab": {
      "provenance": []
    }
  },
  "nbformat": 4,
  "nbformat_minor": 0
}